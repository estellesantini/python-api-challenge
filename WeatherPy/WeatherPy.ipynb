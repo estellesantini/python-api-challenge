{
 "cells": [
  {
   "cell_type": "markdown",
   "metadata": {},
   "source": [
    "# WeatherPy\n",
    "\n",
    "---\n",
    "\n",
    "## Starter Code to Generate Random Geographic Coordinates and a List of Cities"
   ]
  },
  {
   "cell_type": "code",
   "execution_count": 1,
   "metadata": {
    "scrolled": true
   },
   "outputs": [],
   "source": [
    "# Dependencies and Setup\n",
    "import matplotlib.pyplot as plt\n",
    "import pandas as pd\n",
    "import numpy as np\n",
    "import requests\n",
    "import time\n",
    "from scipy.stats import linregress\n",
    "\n",
    "# Impor the OpenWeatherMap API key\n",
    "from api_keys import weather_api_key\n",
    "\n",
    "# Import citipy to determine the cities based on latitude and longitude\n",
    "from citipy import citipy"
   ]
  },
  {
   "cell_type": "markdown",
   "metadata": {},
   "source": [
    "### Generate the Cities List by Using the `citipy` Library"
   ]
  },
  {
   "cell_type": "code",
   "execution_count": 2,
   "metadata": {},
   "outputs": [
    {
     "name": "stdout",
     "output_type": "stream",
     "text": [
      "Number of cities in the list: 621\n"
     ]
    }
   ],
   "source": [
    "# Empty list for holding the latitude and longitude combinations\n",
    "lat_lngs = []\n",
    "\n",
    "# Empty list for holding the cities names\n",
    "cities = []\n",
    "\n",
    "# Range of latitudes and longitudes\n",
    "lat_range = (-90, 90)\n",
    "lng_range = (-180, 180)\n",
    "\n",
    "# Create a set of random lat and lng combinations\n",
    "lats = np.random.uniform(lat_range[0], lat_range[1], size=1500)\n",
    "lngs = np.random.uniform(lng_range[0], lng_range[1], size=1500)\n",
    "lat_lngs = zip(lats, lngs)\n",
    "\n",
    "# Identify nearest city for each lat, lng combination\n",
    "for lat_lng in lat_lngs:\n",
    "    city = citipy.nearest_city(lat_lng[0], lat_lng[1]).city_name\n",
    "    \n",
    "    # If the city is unique, then add it to a our cities list\n",
    "    if city not in cities:\n",
    "        cities.append(city)\n",
    "\n",
    "# Print the city count to confirm sufficient count\n",
    "print(f\"Number of cities in the list: {len(cities)}\")"
   ]
  },
  {
   "cell_type": "markdown",
   "metadata": {},
   "source": [
    "---"
   ]
  },
  {
   "cell_type": "markdown",
   "metadata": {},
   "source": [
    "## Requirement 1: Create Plots to Showcase the Relationship Between Weather Variables and Latitude\n",
    "\n",
    "### Use the OpenWeatherMap API to retrieve weather data from the cities list generated in the started code"
   ]
  },
  {
   "cell_type": "code",
   "execution_count": 20,
   "metadata": {},
   "outputs": [
    {
     "name": "stdout",
     "output_type": "stream",
     "text": [
      "Beginning Data Retrieval     \n",
      "-----------------------------\n",
      "Processing Record 1 of Set 1 | lebu\n",
      "Processing Record 2 of Set 1 | mataura\n",
      "Processing Record 3 of Set 1 | hobart\n",
      "Processing Record 4 of Set 1 | belushya guba\n",
      "City not found. Skipping...\n",
      "Processing Record 5 of Set 1 | pevek\n",
      "Processing Record 6 of Set 1 | huarmey\n",
      "Processing Record 7 of Set 1 | atuona\n",
      "Processing Record 8 of Set 1 | punta arenas\n",
      "Processing Record 9 of Set 1 | posadas\n",
      "Processing Record 10 of Set 1 | vaini\n",
      "Processing Record 11 of Set 1 | rikitea\n",
      "Processing Record 12 of Set 1 | millinocket\n",
      "Processing Record 13 of Set 1 | san cristobal\n",
      "Processing Record 14 of Set 1 | norman wells\n",
      "Processing Record 15 of Set 1 | viransehir\n",
      "Processing Record 16 of Set 1 | vardo\n",
      "Processing Record 17 of Set 1 | kaitangata\n",
      "Processing Record 18 of Set 1 | port alfred\n",
      "Processing Record 19 of Set 1 | haines junction\n",
      "Processing Record 20 of Set 1 | samusu\n",
      "City not found. Skipping...\n",
      "Processing Record 21 of Set 1 | bluff\n",
      "Processing Record 22 of Set 1 | georgetown\n",
      "Processing Record 23 of Set 1 | bengkulu\n",
      "Processing Record 24 of Set 1 | mys shmidta\n",
      "City not found. Skipping...\n",
      "Processing Record 25 of Set 1 | hermanus\n",
      "Processing Record 26 of Set 1 | saryshagan\n",
      "City not found. Skipping...\n",
      "Processing Record 27 of Set 1 | avarua\n",
      "Processing Record 28 of Set 1 | tazovskiy\n",
      "Processing Record 29 of Set 1 | khatanga\n",
      "Processing Record 30 of Set 1 | albany\n",
      "Processing Record 31 of Set 1 | artyom\n",
      "Processing Record 32 of Set 1 | viligili\n",
      "City not found. Skipping...\n",
      "Processing Record 33 of Set 1 | narsaq\n",
      "Processing Record 34 of Set 1 | bara\n",
      "Processing Record 35 of Set 1 | herat\n",
      "Processing Record 36 of Set 1 | ushuaia\n",
      "Processing Record 37 of Set 1 | barrow\n",
      "Processing Record 38 of Set 1 | nkhata bay\n",
      "Processing Record 39 of Set 1 | pyshchug\n",
      "Processing Record 40 of Set 1 | vila\n",
      "Processing Record 41 of Set 1 | giresun\n",
      "Processing Record 42 of Set 1 | mahebourg\n",
      "Processing Record 43 of Set 1 | vestbygda\n",
      "City not found. Skipping...\n",
      "Processing Record 44 of Set 1 | sao jose da coroa grande\n",
      "Processing Record 45 of Set 1 | sanjwal\n",
      "Processing Record 46 of Set 1 | katangli\n",
      "Processing Record 47 of Set 1 | yulara\n",
      "Processing Record 48 of Set 1 | caravelas\n",
      "Processing Record 49 of Set 1 | seoul\n",
      "Processing Record 50 of Set 1 | busselton\n",
      "Processing Record 0 of Set 2 | lolua\n",
      "City not found. Skipping...\n",
      "Processing Record 1 of Set 2 | riaba\n",
      "City not found. Skipping...\n",
      "Processing Record 2 of Set 2 | aire-sur-la-lys\n",
      "Processing Record 3 of Set 2 | chilca\n",
      "Processing Record 4 of Set 2 | taolanaro\n",
      "City not found. Skipping...\n",
      "Processing Record 5 of Set 2 | isangel\n",
      "Processing Record 6 of Set 2 | kawalu\n",
      "Processing Record 7 of Set 2 | ausa\n",
      "Processing Record 8 of Set 2 | ruteng\n",
      "Processing Record 9 of Set 2 | qaanaaq\n",
      "Processing Record 10 of Set 2 | chuy\n",
      "Processing Record 11 of Set 2 | dikson\n",
      "Processing Record 12 of Set 2 | astaneh-ye ashrafiyeh\n",
      "Processing Record 13 of Set 2 | arraial do cabo\n",
      "Processing Record 14 of Set 2 | bredasdorp\n",
      "Processing Record 15 of Set 2 | moussoro\n",
      "Processing Record 16 of Set 2 | provideniya\n",
      "Processing Record 17 of Set 2 | saint george\n",
      "Processing Record 18 of Set 2 | jamestown\n",
      "Processing Record 19 of Set 2 | thinadhoo\n",
      "Processing Record 20 of Set 2 | zaysan\n",
      "Processing Record 21 of Set 2 | torbay\n",
      "Processing Record 22 of Set 2 | pangkalanbuun\n",
      "Processing Record 23 of Set 2 | batemans bay\n",
      "Processing Record 24 of Set 2 | ancud\n",
      "Processing Record 25 of Set 2 | sur\n",
      "Processing Record 26 of Set 2 | karaul\n",
      "City not found. Skipping...\n",
      "Processing Record 27 of Set 2 | nizhneyansk\n",
      "City not found. Skipping...\n",
      "Processing Record 28 of Set 2 | vila franca do campo\n",
      "Processing Record 29 of Set 2 | escarcega\n",
      "Processing Record 30 of Set 2 | olga\n",
      "Processing Record 31 of Set 2 | okhotsk\n",
      "Processing Record 32 of Set 2 | anshun\n",
      "Processing Record 33 of Set 2 | almeirim\n",
      "Processing Record 34 of Set 2 | meulaboh\n",
      "Processing Record 35 of Set 2 | comodoro rivadavia\n",
      "Processing Record 36 of Set 2 | saint-philippe\n",
      "Processing Record 37 of Set 2 | dwarka\n",
      "Processing Record 38 of Set 2 | bogo\n",
      "Processing Record 39 of Set 2 | suraabad\n",
      "Processing Record 40 of Set 2 | northam\n",
      "Processing Record 41 of Set 2 | puerto baquerizo moreno\n",
      "Processing Record 42 of Set 2 | tuktoyaktuk\n",
      "Processing Record 43 of Set 2 | ahipara\n",
      "Processing Record 44 of Set 2 | cabo san lucas\n",
      "Processing Record 45 of Set 2 | nishihara\n",
      "Processing Record 46 of Set 2 | rajamahendri\n",
      "City not found. Skipping...\n",
      "Processing Record 47 of Set 2 | raybag\n",
      "Processing Record 48 of Set 2 | bethel\n",
      "Processing Record 49 of Set 2 | vestmannaeyjar\n",
      "Processing Record 0 of Set 3 | auala\n",
      "City not found. Skipping...\n",
      "Processing Record 1 of Set 3 | fuyu\n",
      "Processing Record 2 of Set 3 | srednekolymsk\n",
      "Processing Record 3 of Set 3 | kuala terengganu\n",
      "Processing Record 4 of Set 3 | lasa\n",
      "Processing Record 5 of Set 3 | linxia\n",
      "Processing Record 6 of Set 3 | port-cartier\n",
      "Processing Record 7 of Set 3 | porto recanati\n",
      "Processing Record 8 of Set 3 | airai\n",
      "Processing Record 9 of Set 3 | saldanha\n",
      "Processing Record 10 of Set 3 | codrington\n",
      "Processing Record 11 of Set 3 | mramor\n",
      "Processing Record 12 of Set 3 | broome\n",
      "Processing Record 13 of Set 3 | sao filipe\n",
      "Processing Record 14 of Set 3 | vanavara\n",
      "Processing Record 15 of Set 3 | hualmay\n",
      "Processing Record 16 of Set 3 | homer\n",
      "Processing Record 17 of Set 3 | nikolskoye\n",
      "Processing Record 18 of Set 3 | victoria\n",
      "Processing Record 19 of Set 3 | jiancheng\n",
      "Processing Record 20 of Set 3 | castro\n",
      "Processing Record 21 of Set 3 | jilib\n",
      "Processing Record 22 of Set 3 | nguruka\n",
      "Processing Record 23 of Set 3 | bathsheba\n",
      "Processing Record 24 of Set 3 | moissac\n",
      "Processing Record 25 of Set 3 | belmonte\n",
      "Processing Record 26 of Set 3 | chapais\n",
      "Processing Record 27 of Set 3 | wanning\n",
      "Processing Record 28 of Set 3 | mangaratiba\n",
      "Processing Record 29 of Set 3 | alofi\n",
      "Processing Record 30 of Set 3 | balykshi\n",
      "Processing Record 31 of Set 3 | ucluelet\n",
      "Processing Record 32 of Set 3 | cururupu\n",
      "Processing Record 33 of Set 3 | longyearbyen\n",
      "Processing Record 34 of Set 3 | niagara falls\n",
      "Processing Record 35 of Set 3 | oshikango\n",
      "Processing Record 36 of Set 3 | atasu\n",
      "Processing Record 37 of Set 3 | geraldton\n",
      "Processing Record 38 of Set 3 | leningradskiy\n",
      "Processing Record 39 of Set 3 | kruisfontein\n",
      "Processing Record 40 of Set 3 | nanortalik\n",
      "Processing Record 41 of Set 3 | honningsvag\n",
      "Processing Record 42 of Set 3 | grand river south east\n",
      "City not found. Skipping...\n",
      "Processing Record 43 of Set 3 | luderitz\n",
      "Processing Record 44 of Set 3 | aflu\n",
      "City not found. Skipping...\n",
      "Processing Record 45 of Set 3 | kampot\n",
      "Processing Record 46 of Set 3 | port shepstone\n",
      "Processing Record 47 of Set 3 | new norfolk\n",
      "Processing Record 48 of Set 3 | yellowknife\n",
      "Processing Record 49 of Set 3 | luwuk\n",
      "Processing Record 0 of Set 4 | yumbe\n",
      "Processing Record 1 of Set 4 | cidreira\n",
      "Processing Record 2 of Set 4 | pak phanang\n",
      "Processing Record 3 of Set 4 | general pico\n",
      "Processing Record 4 of Set 4 | cape town\n",
      "Processing Record 5 of Set 4 | vanimo\n",
      "Processing Record 6 of Set 4 | baykit\n",
      "Processing Record 7 of Set 4 | mount gambier\n",
      "Processing Record 8 of Set 4 | uchiza\n",
      "Processing Record 9 of Set 4 | russell\n",
      "Processing Record 10 of Set 4 | port blair\n",
      "Processing Record 11 of Set 4 | maridi\n",
      "Processing Record 12 of Set 4 | hambantota\n",
      "Processing Record 13 of Set 4 | yumen\n",
      "Processing Record 14 of Set 4 | katsuura\n",
      "Processing Record 15 of Set 4 | santiago\n",
      "Processing Record 16 of Set 4 | centralia\n",
      "Processing Record 17 of Set 4 | port keats\n",
      "Processing Record 18 of Set 4 | tiksi\n",
      "Processing Record 19 of Set 4 | oparino\n",
      "Processing Record 20 of Set 4 | lyubeshiv\n",
      "City not found. Skipping...\n",
      "Processing Record 21 of Set 4 | saskylakh\n",
      "Processing Record 22 of Set 4 | nemuro\n",
      "Processing Record 23 of Set 4 | praia\n",
      "Processing Record 24 of Set 4 | port hedland\n",
      "Processing Record 25 of Set 4 | vao\n",
      "Processing Record 26 of Set 4 | san juan\n",
      "Processing Record 27 of Set 4 | qaqortoq\n",
      "Processing Record 28 of Set 4 | kochki\n",
      "Processing Record 29 of Set 4 | port elizabeth\n",
      "Processing Record 30 of Set 4 | hobyo\n",
      "Processing Record 31 of Set 4 | grindavik\n",
      "Processing Record 32 of Set 4 | labutta\n",
      "City not found. Skipping...\n",
      "Processing Record 33 of Set 4 | illoqqortoormiut\n",
      "City not found. Skipping...\n",
      "Processing Record 34 of Set 4 | makakilo city\n",
      "Processing Record 35 of Set 4 | cherskiy\n"
     ]
    },
    {
     "name": "stdout",
     "output_type": "stream",
     "text": [
      "Processing Record 36 of Set 4 | kanye\n",
      "Processing Record 37 of Set 4 | sudak\n",
      "Processing Record 38 of Set 4 | carnarvon\n",
      "Processing Record 39 of Set 4 | amderma\n",
      "City not found. Skipping...\n",
      "Processing Record 40 of Set 4 | thompson\n",
      "Processing Record 41 of Set 4 | kapaa\n",
      "Processing Record 42 of Set 4 | lindi\n",
      "Processing Record 43 of Set 4 | lagoa\n",
      "Processing Record 44 of Set 4 | shihezi\n",
      "Processing Record 45 of Set 4 | upernavik\n",
      "Processing Record 46 of Set 4 | klaksvik\n",
      "Processing Record 47 of Set 4 | aksu\n",
      "Processing Record 48 of Set 4 | chokurdakh\n",
      "Processing Record 49 of Set 4 | hithadhoo\n",
      "Processing Record 0 of Set 5 | wajima\n",
      "Processing Record 1 of Set 5 | la ronge\n",
      "Processing Record 2 of Set 5 | butaritari\n",
      "Processing Record 3 of Set 5 | waipawa\n",
      "Processing Record 4 of Set 5 | fortuna\n",
      "Processing Record 5 of Set 5 | porto novo\n",
      "Processing Record 6 of Set 5 | nara\n",
      "Processing Record 7 of Set 5 | merauke\n",
      "Processing Record 8 of Set 5 | puerto ayora\n",
      "Processing Record 9 of Set 5 | mikropolis\n",
      "Processing Record 10 of Set 5 | igarka\n",
      "Processing Record 11 of Set 5 | deputatskiy\n",
      "Processing Record 12 of Set 5 | sitka\n",
      "Processing Record 13 of Set 5 | souillac\n",
      "Processing Record 14 of Set 5 | kahului\n",
      "Processing Record 15 of Set 5 | victoria point\n",
      "Processing Record 16 of Set 5 | sembe\n",
      "Processing Record 17 of Set 5 | helena\n",
      "Processing Record 18 of Set 5 | namatanai\n",
      "Processing Record 19 of Set 5 | sorland\n",
      "Processing Record 20 of Set 5 | nome\n",
      "Processing Record 21 of Set 5 | tasiilaq\n",
      "Processing Record 22 of Set 5 | itatiaia\n",
      "Processing Record 23 of Set 5 | tongzi\n",
      "Processing Record 24 of Set 5 | tumannyy\n",
      "City not found. Skipping...\n",
      "Processing Record 25 of Set 5 | san jeronimo\n",
      "Processing Record 26 of Set 5 | zhigansk\n",
      "Processing Record 27 of Set 5 | ponta do sol\n",
      "Processing Record 28 of Set 5 | segovia\n",
      "Processing Record 29 of Set 5 | mandalgovi\n",
      "Processing Record 30 of Set 5 | kaduna\n",
      "Processing Record 31 of Set 5 | aklavik\n",
      "Processing Record 32 of Set 5 | mar del plata\n",
      "Processing Record 33 of Set 5 | birjand\n",
      "Processing Record 34 of Set 5 | karratha\n",
      "Processing Record 35 of Set 5 | mehran\n",
      "Processing Record 36 of Set 5 | nokaneng\n",
      "Processing Record 37 of Set 5 | terme\n",
      "Processing Record 38 of Set 5 | kardymovo\n",
      "Processing Record 39 of Set 5 | oranjestad\n",
      "Processing Record 40 of Set 5 | urrao\n",
      "Processing Record 41 of Set 5 | wangou\n",
      "Processing Record 42 of Set 5 | vicuna\n",
      "Processing Record 43 of Set 5 | hasaki\n",
      "Processing Record 44 of Set 5 | east london\n",
      "Processing Record 45 of Set 5 | ketchikan\n",
      "Processing Record 46 of Set 5 | tura\n",
      "Processing Record 47 of Set 5 | takoradi\n",
      "Processing Record 48 of Set 5 | lulea\n",
      "Processing Record 49 of Set 5 | kodiak\n",
      "Processing Record 0 of Set 6 | huanren\n",
      "Processing Record 1 of Set 6 | lengshuitan\n",
      "Processing Record 2 of Set 6 | mul\n",
      "Processing Record 3 of Set 6 | ugoofaaru\n",
      "Processing Record 4 of Set 6 | barcelos\n",
      "Processing Record 5 of Set 6 | alugan\n",
      "Processing Record 6 of Set 6 | faanui\n",
      "Processing Record 7 of Set 6 | severo-kurilsk\n",
      "Processing Record 8 of Set 6 | hay river\n",
      "Processing Record 9 of Set 6 | lithakia\n",
      "Processing Record 10 of Set 6 | sentyabrskiy\n",
      "City not found. Skipping...\n",
      "Processing Record 11 of Set 6 | cayenne\n",
      "Processing Record 12 of Set 6 | flinders\n",
      "Processing Record 13 of Set 6 | parintins\n",
      "Processing Record 14 of Set 6 | kinablangan\n",
      "Processing Record 15 of Set 6 | teguise\n",
      "Processing Record 16 of Set 6 | sofronea\n",
      "Processing Record 17 of Set 6 | majene\n",
      "Processing Record 18 of Set 6 | sampit\n",
      "Processing Record 19 of Set 6 | wladyslawowo\n",
      "Processing Record 20 of Set 6 | appingedam\n",
      "Processing Record 21 of Set 6 | mareeba\n",
      "Processing Record 22 of Set 6 | prince rupert\n",
      "Processing Record 23 of Set 6 | bismarck\n",
      "Processing Record 24 of Set 6 | sinnamary\n",
      "Processing Record 25 of Set 6 | sola\n",
      "Processing Record 26 of Set 6 | berlevag\n",
      "Processing Record 27 of Set 6 | beloha\n",
      "Processing Record 28 of Set 6 | najran\n",
      "Processing Record 29 of Set 6 | richards bay\n",
      "Processing Record 30 of Set 6 | hilo\n",
      "Processing Record 31 of Set 6 | freeport\n",
      "Processing Record 32 of Set 6 | blagoyevo\n",
      "Processing Record 33 of Set 6 | constitucion\n",
      "Processing Record 34 of Set 6 | tifton\n",
      "Processing Record 35 of Set 6 | lavrentiya\n",
      "Processing Record 36 of Set 6 | shingu\n",
      "Processing Record 37 of Set 6 | barentsburg\n",
      "City not found. Skipping...\n",
      "Processing Record 38 of Set 6 | lensk\n",
      "Processing Record 39 of Set 6 | calvinia\n",
      "Processing Record 40 of Set 6 | komsomolskoye\n",
      "Processing Record 41 of Set 6 | bac lieu\n",
      "Processing Record 42 of Set 6 | craig\n",
      "Processing Record 43 of Set 6 | marcona\n",
      "City not found. Skipping...\n",
      "Processing Record 44 of Set 6 | buala\n",
      "Processing Record 45 of Set 6 | ukiah\n",
      "Processing Record 46 of Set 6 | kaili\n",
      "Processing Record 47 of Set 6 | mutoko\n",
      "Processing Record 48 of Set 6 | north platte\n",
      "Processing Record 49 of Set 6 | chagda\n",
      "City not found. Skipping...\n",
      "Processing Record 0 of Set 7 | ilulissat\n",
      "Processing Record 1 of Set 7 | san rafael del sur\n",
      "Processing Record 2 of Set 7 | omutinskoye\n",
      "City not found. Skipping...\n",
      "Processing Record 3 of Set 7 | camacha\n",
      "Processing Record 4 of Set 7 | palabuhanratu\n",
      "City not found. Skipping...\n",
      "Processing Record 5 of Set 7 | kavieng\n",
      "Processing Record 6 of Set 7 | alaca\n",
      "Processing Record 7 of Set 7 | poum\n",
      "Processing Record 8 of Set 7 | oromocto\n",
      "Processing Record 9 of Set 7 | hwange\n",
      "Processing Record 10 of Set 7 | salalah\n",
      "Processing Record 11 of Set 7 | hovd\n",
      "Processing Record 12 of Set 7 | loreto\n",
      "Processing Record 13 of Set 7 | soyo\n",
      "Processing Record 14 of Set 7 | kysyl-syr\n",
      "Processing Record 15 of Set 7 | calamar\n",
      "Processing Record 16 of Set 7 | acari\n",
      "Processing Record 17 of Set 7 | tynda\n",
      "Processing Record 18 of Set 7 | ngunguru\n",
      "Processing Record 19 of Set 7 | westport\n",
      "Processing Record 20 of Set 7 | paamiut\n",
      "Processing Record 21 of Set 7 | tiznit\n",
      "Processing Record 22 of Set 7 | denpasar\n",
      "Processing Record 23 of Set 7 | pochutla\n",
      "Processing Record 24 of Set 7 | esperance\n",
      "Processing Record 25 of Set 7 | college\n",
      "Processing Record 26 of Set 7 | raton\n",
      "Processing Record 27 of Set 7 | pangnirtung\n",
      "Processing Record 28 of Set 7 | neiafu\n",
      "Processing Record 29 of Set 7 | warrington\n",
      "Processing Record 30 of Set 7 | pangody\n",
      "Processing Record 31 of Set 7 | inhambane\n",
      "Processing Record 32 of Set 7 | berezovyy\n",
      "Processing Record 33 of Set 7 | altamont\n",
      "Processing Record 34 of Set 7 | havoysund\n",
      "Processing Record 35 of Set 7 | warqla\n",
      "City not found. Skipping...\n",
      "Processing Record 36 of Set 7 | ossora\n",
      "Processing Record 37 of Set 7 | sassandra\n",
      "Processing Record 38 of Set 7 | korla\n",
      "Processing Record 39 of Set 7 | lokosovo\n",
      "Processing Record 40 of Set 7 | hofn\n",
      "Processing Record 41 of Set 7 | mudgee\n",
      "Processing Record 42 of Set 7 | sterling\n",
      "Processing Record 43 of Set 7 | plettenberg bay\n",
      "Processing Record 44 of Set 7 | praia da vitoria\n",
      "Processing Record 45 of Set 7 | hunza\n",
      "City not found. Skipping...\n",
      "Processing Record 46 of Set 7 | san patricio\n",
      "Processing Record 47 of Set 7 | coari\n",
      "Processing Record 48 of Set 7 | coihaique\n",
      "Processing Record 49 of Set 7 | cabimas\n",
      "Processing Record 0 of Set 8 | zvishavane\n",
      "Processing Record 1 of Set 8 | havre-saint-pierre\n",
      "Processing Record 2 of Set 8 | ouadda\n",
      "Processing Record 3 of Set 8 | niquelandia\n",
      "Processing Record 4 of Set 8 | uberlandia\n",
      "Processing Record 5 of Set 8 | vechta\n",
      "Processing Record 6 of Set 8 | bahir dar\n",
      "Processing Record 7 of Set 8 | kongsberg\n",
      "Processing Record 8 of Set 8 | arteaga\n",
      "Processing Record 9 of Set 8 | tessalit\n",
      "Processing Record 10 of Set 8 | ourossogui\n",
      "Processing Record 11 of Set 8 | naze\n",
      "Processing Record 12 of Set 8 | gat\n",
      "Processing Record 13 of Set 8 | hervey bay\n",
      "Processing Record 14 of Set 8 | nizwa\n",
      "Processing Record 15 of Set 8 | kirovsk\n",
      "Processing Record 16 of Set 8 | paracatu\n",
      "Processing Record 17 of Set 8 | bandarbeyla\n",
      "Processing Record 18 of Set 8 | pacific grove\n",
      "Processing Record 19 of Set 8 | yashan\n",
      "Processing Record 20 of Set 8 | kudahuvadhoo\n",
      "Processing Record 21 of Set 8 | banda aceh\n",
      "Processing Record 22 of Set 8 | pacifica\n",
      "Processing Record 23 of Set 8 | ushtobe\n",
      "Processing Record 24 of Set 8 | mokhsogollokh\n",
      "Processing Record 25 of Set 8 | dunedin\n",
      "Processing Record 26 of Set 8 | teneguiban\n",
      "City not found. Skipping...\n",
      "Processing Record 27 of Set 8 | ruatoria\n",
      "City not found. Skipping...\n",
      "Processing Record 28 of Set 8 | pyay\n",
      "Processing Record 29 of Set 8 | kutum\n",
      "Processing Record 30 of Set 8 | ola\n"
     ]
    },
    {
     "name": "stdout",
     "output_type": "stream",
     "text": [
      "Processing Record 31 of Set 8 | roald\n",
      "Processing Record 32 of Set 8 | lyubech\n",
      "Processing Record 33 of Set 8 | vaitupu\n",
      "City not found. Skipping...\n",
      "Processing Record 34 of Set 8 | ribeira grande\n",
      "Processing Record 35 of Set 8 | muros\n",
      "Processing Record 36 of Set 8 | novoagansk\n",
      "Processing Record 37 of Set 8 | fare\n",
      "Processing Record 38 of Set 8 | bontang\n",
      "Processing Record 39 of Set 8 | tuy hoa\n",
      "Processing Record 40 of Set 8 | ankazobe\n",
      "Processing Record 41 of Set 8 | thunder bay\n",
      "Processing Record 42 of Set 8 | shirokiy\n",
      "Processing Record 43 of Set 8 | hami\n",
      "Processing Record 44 of Set 8 | beian\n",
      "Processing Record 45 of Set 8 | pindiga\n",
      "Processing Record 46 of Set 8 | kulhudhuffushi\n",
      "Processing Record 47 of Set 8 | superior\n",
      "Processing Record 48 of Set 8 | pangai\n",
      "Processing Record 49 of Set 8 | laguna\n",
      "Processing Record 0 of Set 9 | bhuj\n",
      "Processing Record 1 of Set 9 | samba\n",
      "Processing Record 2 of Set 9 | tsihombe\n",
      "City not found. Skipping...\n",
      "Processing Record 3 of Set 9 | dingle\n",
      "Processing Record 4 of Set 9 | oriximina\n",
      "Processing Record 5 of Set 9 | bilma\n",
      "Processing Record 6 of Set 9 | zhangye\n",
      "Processing Record 7 of Set 9 | pijijiapan\n",
      "Processing Record 8 of Set 9 | cortes\n",
      "Processing Record 9 of Set 9 | lompoc\n",
      "Processing Record 10 of Set 9 | kadom\n",
      "Processing Record 11 of Set 9 | yar-sale\n",
      "Processing Record 12 of Set 9 | jurbarkas\n",
      "Processing Record 13 of Set 9 | eidsvoll\n",
      "Processing Record 14 of Set 9 | qafsah\n",
      "City not found. Skipping...\n",
      "Processing Record 15 of Set 9 | azuaga\n",
      "Processing Record 16 of Set 9 | attawapiskat\n",
      "City not found. Skipping...\n",
      "Processing Record 17 of Set 9 | nortelandia\n",
      "Processing Record 18 of Set 9 | lata\n",
      "Processing Record 19 of Set 9 | wahran\n",
      "City not found. Skipping...\n",
      "Processing Record 20 of Set 9 | flin flon\n",
      "Processing Record 21 of Set 9 | sao francisco\n",
      "Processing Record 22 of Set 9 | novosergiyevka\n",
      "Processing Record 23 of Set 9 | adrar\n",
      "Processing Record 24 of Set 9 | santander\n",
      "Processing Record 25 of Set 9 | cockburn town\n",
      "Processing Record 26 of Set 9 | kisangani\n",
      "Processing Record 27 of Set 9 | lorengau\n",
      "Processing Record 28 of Set 9 | kununurra\n",
      "Processing Record 29 of Set 9 | turangi\n",
      "Processing Record 30 of Set 9 | atar\n",
      "Processing Record 31 of Set 9 | pundaguitan\n",
      "Processing Record 32 of Set 9 | oranjemund\n",
      "Processing Record 33 of Set 9 | trincomalee\n",
      "Processing Record 34 of Set 9 | terrace bay\n",
      "Processing Record 35 of Set 9 | escanaba\n",
      "Processing Record 36 of Set 9 | zhezkazgan\n",
      "Processing Record 37 of Set 9 | ventspils\n",
      "Processing Record 38 of Set 9 | san antonio\n",
      "Processing Record 39 of Set 9 | zhireken\n",
      "Processing Record 40 of Set 9 | smolenka\n",
      "Processing Record 41 of Set 9 | baker city\n",
      "Processing Record 42 of Set 9 | xining\n",
      "Processing Record 43 of Set 9 | toliary\n",
      "City not found. Skipping...\n",
      "Processing Record 44 of Set 9 | krasnoarmeysk\n",
      "Processing Record 45 of Set 9 | amazar\n",
      "Processing Record 46 of Set 9 | fairbanks\n",
      "Processing Record 47 of Set 9 | katobu\n",
      "Processing Record 48 of Set 9 | balkhash\n",
      "Processing Record 49 of Set 9 | calama\n",
      "Processing Record 0 of Set 10 | sabang\n",
      "Processing Record 1 of Set 10 | novo selo\n",
      "Processing Record 2 of Set 10 | nanhai\n",
      "Processing Record 3 of Set 10 | devli\n",
      "Processing Record 4 of Set 10 | coxim\n",
      "Processing Record 5 of Set 10 | colac\n",
      "Processing Record 6 of Set 10 | lixourion\n",
      "Processing Record 7 of Set 10 | vestmanna\n",
      "Processing Record 8 of Set 10 | necochea\n",
      "Processing Record 9 of Set 10 | harper\n",
      "Processing Record 10 of Set 10 | paveh\n",
      "Processing Record 11 of Set 10 | pudozh\n",
      "Processing Record 12 of Set 10 | burica\n",
      "City not found. Skipping...\n",
      "Processing Record 13 of Set 10 | chimbote\n",
      "Processing Record 14 of Set 10 | marystown\n",
      "Processing Record 15 of Set 10 | high level\n",
      "Processing Record 16 of Set 10 | okara\n",
      "Processing Record 17 of Set 10 | conyers\n",
      "Processing Record 18 of Set 10 | kavaratti\n",
      "Processing Record 19 of Set 10 | pemangkat\n",
      "Processing Record 20 of Set 10 | krasnoselkup\n",
      "Processing Record 21 of Set 10 | quatre cocos\n",
      "Processing Record 22 of Set 10 | lima\n",
      "Processing Record 23 of Set 10 | hammerfest\n",
      "Processing Record 24 of Set 10 | umzimvubu\n",
      "City not found. Skipping...\n",
      "Processing Record 25 of Set 10 | husavik\n",
      "Processing Record 26 of Set 10 | labrea\n",
      "Processing Record 27 of Set 10 | loukhi\n",
      "Processing Record 28 of Set 10 | port augusta\n",
      "Processing Record 29 of Set 10 | abu samrah\n",
      "Processing Record 30 of Set 10 | yeppoon\n",
      "Processing Record 31 of Set 10 | aykhal\n",
      "Processing Record 32 of Set 10 | marzuq\n",
      "Processing Record 33 of Set 10 | tsabong\n",
      "Processing Record 34 of Set 10 | brownwood\n",
      "Processing Record 35 of Set 10 | morondava\n",
      "Processing Record 36 of Set 10 | bambous virieux\n",
      "Processing Record 37 of Set 10 | kiama\n",
      "Processing Record 38 of Set 10 | vila velha\n",
      "Processing Record 39 of Set 10 | kabare\n",
      "Processing Record 40 of Set 10 | grand centre\n",
      "City not found. Skipping...\n",
      "Processing Record 41 of Set 10 | arkhangelsk\n",
      "Processing Record 42 of Set 10 | khandyga\n",
      "Processing Record 43 of Set 10 | ducheng\n",
      "Processing Record 44 of Set 10 | solnechnyy\n",
      "Processing Record 45 of Set 10 | salinopolis\n",
      "Processing Record 46 of Set 10 | acuna\n",
      "City not found. Skipping...\n",
      "Processing Record 47 of Set 10 | bukachacha\n",
      "Processing Record 48 of Set 10 | yerbogachen\n",
      "Processing Record 49 of Set 10 | lazaro cardenas\n",
      "Processing Record 0 of Set 11 | dzhebariki-khaya\n",
      "Processing Record 1 of Set 11 | gold coast\n",
      "Processing Record 2 of Set 11 | terney\n",
      "Processing Record 3 of Set 11 | faya\n",
      "Processing Record 4 of Set 11 | beyneu\n",
      "Processing Record 5 of Set 11 | joensuu\n",
      "Processing Record 6 of Set 11 | alekseyevka\n",
      "Processing Record 7 of Set 11 | sembakung\n",
      "Processing Record 8 of Set 11 | yangambi\n",
      "Processing Record 9 of Set 11 | assela\n",
      "City not found. Skipping...\n",
      "Processing Record 10 of Set 11 | bremerton\n",
      "Processing Record 11 of Set 11 | khulo\n",
      "Processing Record 12 of Set 11 | riyadh\n",
      "Processing Record 13 of Set 11 | moranbah\n",
      "Processing Record 14 of Set 11 | stanislav\n",
      "Processing Record 15 of Set 11 | tianpeng\n",
      "Processing Record 16 of Set 11 | sicuani\n",
      "Processing Record 17 of Set 11 | muncar\n",
      "Processing Record 18 of Set 11 | kodinsk\n",
      "Processing Record 19 of Set 11 | beringovskiy\n",
      "Processing Record 20 of Set 11 | samana\n",
      "Processing Record 21 of Set 11 | sechelt\n",
      "Processing Record 22 of Set 11 | kamenka\n",
      "Processing Record 23 of Set 11 | hayden\n",
      "Processing Record 24 of Set 11 | burla\n",
      "Processing Record 25 of Set 11 | jining\n",
      "Processing Record 26 of Set 11 | praya\n",
      "Processing Record 27 of Set 11 | miedzyrzecz\n",
      "Processing Record 28 of Set 11 | kousseri\n",
      "Processing Record 29 of Set 11 | phan thiet\n",
      "Processing Record 30 of Set 11 | raudeberg\n",
      "Processing Record 31 of Set 11 | voznesenye\n",
      "Processing Record 32 of Set 11 | kadhan\n",
      "Processing Record 33 of Set 11 | padang\n",
      "Processing Record 34 of Set 11 | nioki\n",
      "Processing Record 35 of Set 11 | constantine\n",
      "Processing Record 36 of Set 11 | egvekinot\n",
      "Processing Record 37 of Set 11 | luoyang\n",
      "Processing Record 38 of Set 11 | hihifo\n",
      "City not found. Skipping...\n",
      "Processing Record 39 of Set 11 | saint-francois\n",
      "Processing Record 40 of Set 11 | charters towers\n",
      "Processing Record 41 of Set 11 | akyab\n",
      "Processing Record 42 of Set 11 | bucerias\n",
      "Processing Record 43 of Set 11 | angoram\n",
      "Processing Record 44 of Set 11 | clyde river\n",
      "Processing Record 45 of Set 11 | bambanglipuro\n",
      "Processing Record 46 of Set 11 | nelson bay\n",
      "Processing Record 47 of Set 11 | jaciara\n",
      "Processing Record 48 of Set 11 | manzil salim\n",
      "Processing Record 49 of Set 11 | rocky mountain house\n",
      "Processing Record 0 of Set 12 | mandan\n",
      "Processing Record 1 of Set 12 | at-bashi\n",
      "Processing Record 2 of Set 12 | murray\n",
      "Processing Record 3 of Set 12 | aran\n",
      "Processing Record 4 of Set 12 | gotsu\n",
      "Processing Record 5 of Set 12 | bubaque\n",
      "Processing Record 6 of Set 12 | tuatapere\n",
      "Processing Record 7 of Set 12 | gorontalo\n",
      "Processing Record 8 of Set 12 | lobito\n",
      "Processing Record 9 of Set 12 | kazachinskoye\n",
      "Processing Record 10 of Set 12 | parras\n",
      "City not found. Skipping...\n",
      "Processing Record 11 of Set 12 | san carlos de bariloche\n",
      "Processing Record 12 of Set 12 | vengerovo\n",
      "Processing Record 13 of Set 12 | tan an\n",
      "Processing Record 14 of Set 12 | kuusamo\n",
      "Processing Record 15 of Set 12 | kondoros\n",
      "Processing Record 16 of Set 12 | mount isa\n",
      "Processing Record 17 of Set 12 | rio grande\n",
      "Processing Record 18 of Set 12 | tocopilla\n",
      "Processing Record 19 of Set 12 | liuzhou\n"
     ]
    },
    {
     "name": "stdout",
     "output_type": "stream",
     "text": [
      "Processing Record 20 of Set 12 | koulikoro\n",
      "Processing Record 21 of Set 12 | samalaeulu\n",
      "City not found. Skipping...\n",
      "Processing Record 22 of Set 12 | peleduy\n",
      "Processing Record 23 of Set 12 | shugurovo\n",
      "Processing Record 24 of Set 12 | khasan\n",
      "Processing Record 25 of Set 12 | kenai\n",
      "Processing Record 26 of Set 12 | aguimes\n",
      "Processing Record 27 of Set 12 | kalmunai\n",
      "Processing Record 28 of Set 12 | abalak\n",
      "Processing Record 29 of Set 12 | nioro\n",
      "Processing Record 30 of Set 12 | alexandria\n",
      "Processing Record 31 of Set 12 | walvis bay\n",
      "Processing Record 32 of Set 12 | riachao do jacuipe\n",
      "Processing Record 33 of Set 12 | tabukiniberu\n",
      "City not found. Skipping...\n",
      "Processing Record 34 of Set 12 | ajjampur\n",
      "Processing Record 35 of Set 12 | chernyshevskiy\n",
      "Processing Record 36 of Set 12 | finschhafen\n",
      "Processing Record 37 of Set 12 | tairua\n",
      "Processing Record 38 of Set 12 | itaberai\n",
      "Processing Record 39 of Set 12 | ongandjera\n",
      "Processing Record 40 of Set 12 | ankara\n",
      "Processing Record 41 of Set 12 | saint-pierre\n",
      "Processing Record 42 of Set 12 | ifanadiana\n",
      "Processing Record 43 of Set 12 | swan river\n",
      "Processing Record 44 of Set 12 | casablanca\n",
      "Processing Record 45 of Set 12 | samarai\n",
      "Processing Record 46 of Set 12 | saint-joseph\n",
      "Processing Record 47 of Set 12 | shitanjing\n",
      "Processing Record 48 of Set 12 | sainte-rose\n",
      "Processing Record 49 of Set 12 | luebo\n",
      "Processing Record 0 of Set 13 | alotau\n",
      "City not found. Skipping...\n",
      "Processing Record 1 of Set 13 | zuwarah\n",
      "Processing Record 2 of Set 13 | kirakira\n",
      "Processing Record 3 of Set 13 | grand gaube\n",
      "Processing Record 4 of Set 13 | xichang\n",
      "Processing Record 5 of Set 13 | briancon\n",
      "Processing Record 6 of Set 13 | iqaluit\n",
      "Processing Record 7 of Set 13 | machali\n",
      "Processing Record 8 of Set 13 | rawson\n",
      "Processing Record 9 of Set 13 | vigrestad\n",
      "Processing Record 10 of Set 13 | usinsk\n",
      "Processing Record 11 of Set 13 | ust-kuyga\n",
      "Processing Record 12 of Set 13 | taga\n",
      "Processing Record 13 of Set 13 | cap malheureux\n",
      "Processing Record 14 of Set 13 | puerto madryn\n",
      "Processing Record 15 of Set 13 | ellensburg\n",
      "Processing Record 16 of Set 13 | nalut\n",
      "Processing Record 17 of Set 13 | okmulgee\n",
      "Processing Record 18 of Set 13 | statesboro\n",
      "Processing Record 19 of Set 13 | kieta\n",
      "Processing Record 20 of Set 13 | nagorsk\n",
      "-----------------------------\n",
      "Data Retrieval Complete      \n",
      "-----------------------------\n"
     ]
    }
   ],
   "source": [
    "# Set the API base URL\n",
    "units = \"metric\"\n",
    "url = \"http://api.openweathermap.org/data/2.5/weather?\"\n",
    "\n",
    "# Define an empty list to fetch the weather data for each city\n",
    "city_data = []\n",
    "\n",
    "# Print to logger\n",
    "print(\"Beginning Data Retrieval     \")\n",
    "print(\"-----------------------------\")\n",
    "\n",
    "# Create counters\n",
    "record_count = 1\n",
    "set_count = 1\n",
    "\n",
    "# Loop through all the cities in our list to fetch weather data\n",
    "for i, city in enumerate(cities):\n",
    "        \n",
    "    # Group cities in sets of 50 for logging purposes\n",
    "    if (i % 50 == 0 and i >= 50):\n",
    "        set_count += 1\n",
    "        record_count = 0\n",
    "\n",
    "    # Create endpoint URL with each city\n",
    "    city_url = f\"{url}appid={weather_api_key}&q={city}&units={units}\"\n",
    "    \n",
    "    # Log the url, record, and set numbers\n",
    "    print(\"Processing Record %s of Set %s | %s\" % (record_count, set_count, city))\n",
    "\n",
    "    # Add 1 to the record count\n",
    "    record_count += 1\n",
    "\n",
    "    # Run an API request for each of the cities\n",
    "    try:\n",
    "    # Parse the JSON and retrieve data\n",
    "        city_weather = requests.get(city_url) \n",
    "        weather_json = city_weather.json()\n",
    "        \n",
    "        # Parse out latitude, longitude, max temp, humidity, cloudiness, wind speed, country, and date\n",
    "        city_lat = weather_json[\"coord\"][\"lat\"]\n",
    "        city_lng = weather_json[\"coord\"][\"lon\"]\n",
    "        city_max_temp = weather_json[\"main\"][\"temp_max\"]\n",
    "        city_humidity = weather_json[\"main\"][\"humidity\"]\n",
    "        city_clouds = weather_json[\"clouds\"][\"all\"]\n",
    "        city_wind = weather_json[\"wind\"][\"speed\"]\n",
    "        city_country = weather_json[\"sys\"][\"country\"]\n",
    "        city_date = weather_json[\"dt\"]\n",
    "\n",
    "      # Append the City information into city_data list\n",
    "        city_data.append({\"City\": city, \n",
    "                          \"Lat\": city_lat, \n",
    "                          \"Lng\": city_lng, \n",
    "                          \"Max Temp\": city_max_temp,\n",
    "                          \"Humidity\": city_humidity,\n",
    "                          \"Cloudiness\": city_clouds,\n",
    "                          \"Wind Speed\": city_wind,\n",
    "                          \"Country\": city_country,\n",
    "                          \"Date\": city_date})\n",
    "\n",
    "    # If an error is experienced, skip the city\n",
    "    except:\n",
    "        print(\"City not found. Skipping...\")\n",
    "        pass\n",
    "              \n",
    "# Indicate that Data Loading is complete \n",
    "print(\"-----------------------------\")\n",
    "print(\"Data Retrieval Complete      \")\n",
    "print(\"-----------------------------\")"
   ]
  },
  {
   "cell_type": "code",
   "execution_count": 21,
   "metadata": {},
   "outputs": [
    {
     "data": {
      "text/plain": [
       "City          575\n",
       "Lat           575\n",
       "Lng           575\n",
       "Max Temp      575\n",
       "Humidity      575\n",
       "Cloudiness    575\n",
       "Wind Speed    575\n",
       "Country       575\n",
       "Date          575\n",
       "dtype: int64"
      ]
     },
     "execution_count": 21,
     "metadata": {},
     "output_type": "execute_result"
    }
   ],
   "source": [
    "# Convert the cities weather data into a Pandas DataFrame\n",
    "city_data_df = pd.DataFrame(city_data)\n",
    "\n",
    "# Show Record Count\n",
    "city_data_df.count()"
   ]
  },
  {
   "cell_type": "code",
   "execution_count": 22,
   "metadata": {},
   "outputs": [
    {
     "data": {
      "text/html": [
       "<div>\n",
       "<style scoped>\n",
       "    .dataframe tbody tr th:only-of-type {\n",
       "        vertical-align: middle;\n",
       "    }\n",
       "\n",
       "    .dataframe tbody tr th {\n",
       "        vertical-align: top;\n",
       "    }\n",
       "\n",
       "    .dataframe thead th {\n",
       "        text-align: right;\n",
       "    }\n",
       "</style>\n",
       "<table border=\"1\" class=\"dataframe\">\n",
       "  <thead>\n",
       "    <tr style=\"text-align: right;\">\n",
       "      <th></th>\n",
       "      <th>City</th>\n",
       "      <th>Lat</th>\n",
       "      <th>Lng</th>\n",
       "      <th>Max Temp</th>\n",
       "      <th>Humidity</th>\n",
       "      <th>Cloudiness</th>\n",
       "      <th>Wind Speed</th>\n",
       "      <th>Country</th>\n",
       "      <th>Date</th>\n",
       "    </tr>\n",
       "  </thead>\n",
       "  <tbody>\n",
       "    <tr>\n",
       "      <th>0</th>\n",
       "      <td>lebu</td>\n",
       "      <td>-37.6167</td>\n",
       "      <td>-73.6500</td>\n",
       "      <td>12.80</td>\n",
       "      <td>78</td>\n",
       "      <td>50</td>\n",
       "      <td>7.20</td>\n",
       "      <td>CL</td>\n",
       "      <td>1680817233</td>\n",
       "    </tr>\n",
       "    <tr>\n",
       "      <th>1</th>\n",
       "      <td>mataura</td>\n",
       "      <td>-46.1927</td>\n",
       "      <td>168.8643</td>\n",
       "      <td>8.53</td>\n",
       "      <td>64</td>\n",
       "      <td>86</td>\n",
       "      <td>1.18</td>\n",
       "      <td>NZ</td>\n",
       "      <td>1680817233</td>\n",
       "    </tr>\n",
       "    <tr>\n",
       "      <th>2</th>\n",
       "      <td>hobart</td>\n",
       "      <td>-42.8794</td>\n",
       "      <td>147.3294</td>\n",
       "      <td>13.92</td>\n",
       "      <td>96</td>\n",
       "      <td>75</td>\n",
       "      <td>0.00</td>\n",
       "      <td>AU</td>\n",
       "      <td>1680817052</td>\n",
       "    </tr>\n",
       "    <tr>\n",
       "      <th>3</th>\n",
       "      <td>pevek</td>\n",
       "      <td>69.7008</td>\n",
       "      <td>170.3133</td>\n",
       "      <td>-23.05</td>\n",
       "      <td>79</td>\n",
       "      <td>4</td>\n",
       "      <td>0.70</td>\n",
       "      <td>RU</td>\n",
       "      <td>1680817238</td>\n",
       "    </tr>\n",
       "    <tr>\n",
       "      <th>4</th>\n",
       "      <td>huarmey</td>\n",
       "      <td>-10.0681</td>\n",
       "      <td>-78.1522</td>\n",
       "      <td>25.25</td>\n",
       "      <td>85</td>\n",
       "      <td>9</td>\n",
       "      <td>5.53</td>\n",
       "      <td>PE</td>\n",
       "      <td>1680817239</td>\n",
       "    </tr>\n",
       "  </tbody>\n",
       "</table>\n",
       "</div>"
      ],
      "text/plain": [
       "      City      Lat       Lng  Max Temp  Humidity  Cloudiness  Wind Speed  \\\n",
       "0     lebu -37.6167  -73.6500     12.80        78          50        7.20   \n",
       "1  mataura -46.1927  168.8643      8.53        64          86        1.18   \n",
       "2   hobart -42.8794  147.3294     13.92        96          75        0.00   \n",
       "3    pevek  69.7008  170.3133    -23.05        79           4        0.70   \n",
       "4  huarmey -10.0681  -78.1522     25.25        85           9        5.53   \n",
       "\n",
       "  Country        Date  \n",
       "0      CL  1680817233  \n",
       "1      NZ  1680817233  \n",
       "2      AU  1680817052  \n",
       "3      RU  1680817238  \n",
       "4      PE  1680817239  "
      ]
     },
     "execution_count": 22,
     "metadata": {},
     "output_type": "execute_result"
    }
   ],
   "source": [
    "# Display sample data\n",
    "city_data_df.head()"
   ]
  },
  {
   "cell_type": "code",
   "execution_count": 23,
   "metadata": {},
   "outputs": [],
   "source": [
    "# Export the City_Data into a csv\n",
    "city_data_df.to_csv(\"output_data/cities.csv\", index_label=\"City_ID\")"
   ]
  },
  {
   "cell_type": "code",
   "execution_count": 24,
   "metadata": {},
   "outputs": [
    {
     "data": {
      "text/html": [
       "<div>\n",
       "<style scoped>\n",
       "    .dataframe tbody tr th:only-of-type {\n",
       "        vertical-align: middle;\n",
       "    }\n",
       "\n",
       "    .dataframe tbody tr th {\n",
       "        vertical-align: top;\n",
       "    }\n",
       "\n",
       "    .dataframe thead th {\n",
       "        text-align: right;\n",
       "    }\n",
       "</style>\n",
       "<table border=\"1\" class=\"dataframe\">\n",
       "  <thead>\n",
       "    <tr style=\"text-align: right;\">\n",
       "      <th></th>\n",
       "      <th>City</th>\n",
       "      <th>Lat</th>\n",
       "      <th>Lng</th>\n",
       "      <th>Max Temp</th>\n",
       "      <th>Humidity</th>\n",
       "      <th>Cloudiness</th>\n",
       "      <th>Wind Speed</th>\n",
       "      <th>Country</th>\n",
       "      <th>Date</th>\n",
       "    </tr>\n",
       "    <tr>\n",
       "      <th>City_ID</th>\n",
       "      <th></th>\n",
       "      <th></th>\n",
       "      <th></th>\n",
       "      <th></th>\n",
       "      <th></th>\n",
       "      <th></th>\n",
       "      <th></th>\n",
       "      <th></th>\n",
       "      <th></th>\n",
       "    </tr>\n",
       "  </thead>\n",
       "  <tbody>\n",
       "    <tr>\n",
       "      <th>0</th>\n",
       "      <td>lebu</td>\n",
       "      <td>-37.6167</td>\n",
       "      <td>-73.6500</td>\n",
       "      <td>12.80</td>\n",
       "      <td>78</td>\n",
       "      <td>50</td>\n",
       "      <td>7.20</td>\n",
       "      <td>CL</td>\n",
       "      <td>1680817233</td>\n",
       "    </tr>\n",
       "    <tr>\n",
       "      <th>1</th>\n",
       "      <td>mataura</td>\n",
       "      <td>-46.1927</td>\n",
       "      <td>168.8643</td>\n",
       "      <td>8.53</td>\n",
       "      <td>64</td>\n",
       "      <td>86</td>\n",
       "      <td>1.18</td>\n",
       "      <td>NZ</td>\n",
       "      <td>1680817233</td>\n",
       "    </tr>\n",
       "    <tr>\n",
       "      <th>2</th>\n",
       "      <td>hobart</td>\n",
       "      <td>-42.8794</td>\n",
       "      <td>147.3294</td>\n",
       "      <td>13.92</td>\n",
       "      <td>96</td>\n",
       "      <td>75</td>\n",
       "      <td>0.00</td>\n",
       "      <td>AU</td>\n",
       "      <td>1680817052</td>\n",
       "    </tr>\n",
       "    <tr>\n",
       "      <th>3</th>\n",
       "      <td>pevek</td>\n",
       "      <td>69.7008</td>\n",
       "      <td>170.3133</td>\n",
       "      <td>-23.05</td>\n",
       "      <td>79</td>\n",
       "      <td>4</td>\n",
       "      <td>0.70</td>\n",
       "      <td>RU</td>\n",
       "      <td>1680817238</td>\n",
       "    </tr>\n",
       "    <tr>\n",
       "      <th>4</th>\n",
       "      <td>huarmey</td>\n",
       "      <td>-10.0681</td>\n",
       "      <td>-78.1522</td>\n",
       "      <td>25.25</td>\n",
       "      <td>85</td>\n",
       "      <td>9</td>\n",
       "      <td>5.53</td>\n",
       "      <td>PE</td>\n",
       "      <td>1680817239</td>\n",
       "    </tr>\n",
       "  </tbody>\n",
       "</table>\n",
       "</div>"
      ],
      "text/plain": [
       "            City      Lat       Lng  Max Temp  Humidity  Cloudiness  \\\n",
       "City_ID                                                               \n",
       "0           lebu -37.6167  -73.6500     12.80        78          50   \n",
       "1        mataura -46.1927  168.8643      8.53        64          86   \n",
       "2         hobart -42.8794  147.3294     13.92        96          75   \n",
       "3          pevek  69.7008  170.3133    -23.05        79           4   \n",
       "4        huarmey -10.0681  -78.1522     25.25        85           9   \n",
       "\n",
       "         Wind Speed Country        Date  \n",
       "City_ID                                  \n",
       "0              7.20      CL  1680817233  \n",
       "1              1.18      NZ  1680817233  \n",
       "2              0.00      AU  1680817052  \n",
       "3              0.70      RU  1680817238  \n",
       "4              5.53      PE  1680817239  "
      ]
     },
     "execution_count": 24,
     "metadata": {},
     "output_type": "execute_result"
    }
   ],
   "source": [
    "# Read saved data\n",
    "city_data_df = pd.read_csv(\"output_data/cities.csv\", index_col=\"City_ID\")\n",
    "\n",
    "# Display sample data\n",
    "city_data_df.head()"
   ]
  },
  {
   "cell_type": "markdown",
   "metadata": {},
   "source": [
    "### Create the Scatter Plots Requested\n",
    "\n",
    "#### Latitude Vs. Temperature"
   ]
  },
  {
   "cell_type": "code",
   "execution_count": 28,
   "metadata": {
    "tags": []
   },
   "outputs": [
    {
     "data": {
      "image/png": "[encoded data removed]",
      "text/plain": [
       "<Figure size 432x288 with 1 Axes>"
      ]
     },
     "metadata": {
      "needs_background": "light"
     },
     "output_type": "display_data"
    }
   ],
   "source": [
    "# Build scatter plot for latitude vs. temperature\n",
    "lat = city_data_df[\"Lat\"]\n",
    "temp = city_data_df[\"Max Temp\"]\n",
    "\n",
    "plt.scatter(lat, temp)\n",
    "\n",
    "# Incorporate the other graph properties\n",
    "plt.xlabel(\"Latitude\")\n",
    "plt.ylabel(\"Max Temperature (C)\")\n",
    "plt.title(\"City Latitude vs. Max Temperature (2023-04-06)\")\n",
    "\n",
    "# Save the figure\n",
    "plt.savefig(\"output_data/Fig1.png\")\n",
    "\n",
    "# Show plot\n",
    "plt.show()"
   ]
  },
  {
   "cell_type": "markdown",
   "metadata": {},
   "source": [
    "#### Latitude Vs. Humidity"
   ]
  },
  {
   "cell_type": "code",
   "execution_count": 29,
   "metadata": {},
   "outputs": [
    {
     "data": {
      "image/png": "[encoded data removed]",
      "text/plain": [
       "<Figure size 432x288 with 1 Axes>"
      ]
     },
     "metadata": {
      "needs_background": "light"
     },
     "output_type": "display_data"
    }
   ],
   "source": [
    "# Build the scatter plots for latitude vs. humidity\n",
    "humidity = city_data_df[\"Humidity\"]\n",
    "\n",
    "plt.scatter(lat, humidity)\n",
    "\n",
    "# Incorporate the other graph properties\n",
    "plt.xlabel(\"Latitude\")\n",
    "plt.ylabel(\"Humidity\")\n",
    "plt.title(\"City Latitude vs. Humidity (2023-04-06)\")\n",
    "\n",
    "# Save the figure\n",
    "plt.savefig(\"output_data/Fig2.png\")\n",
    "\n",
    "# Show plot\n",
    "plt.show()"
   ]
  },
  {
   "cell_type": "markdown",
   "metadata": {},
   "source": [
    "#### Latitude Vs. Cloudiness"
   ]
  },
  {
   "cell_type": "code",
   "execution_count": 30,
   "metadata": {},
   "outputs": [
    {
     "data": {
      "image/png": "[encoded data removed]",
      "text/plain": [
       "<Figure size 432x288 with 1 Axes>"
      ]
     },
     "metadata": {
      "needs_background": "light"
     },
     "output_type": "display_data"
    }
   ],
   "source": [
    "# Build the scatter plots for latitude vs. cloudiness\n",
    "cloud = city_data_df[\"Cloudiness\"]\n",
    "\n",
    "plt.scatter(lat, cloud)\n",
    "\n",
    "# Incorporate the other graph properties\n",
    "plt.xlabel(\"Latitude\")\n",
    "plt.ylabel(\"Cloudiness\")\n",
    "plt.title(\"City Latitude vs. Cloudiness (2023-04-06)\")\n",
    "\n",
    "# Save the figure\n",
    "plt.savefig(\"output_data/Fig3.png\")\n",
    "\n",
    "# Show plot\n",
    "plt.show()"
   ]
  },
  {
   "cell_type": "markdown",
   "metadata": {},
   "source": [
    "#### Latitude vs. Wind Speed Plot"
   ]
  },
  {
   "cell_type": "code",
   "execution_count": 31,
   "metadata": {},
   "outputs": [
    {
     "data": {
      "image/png": "[encoded data removed]",
      "text/plain": [
       "<Figure size 432x288 with 1 Axes>"
      ]
     },
     "metadata": {
      "needs_background": "light"
     },
     "output_type": "display_data"
    }
   ],
   "source": [
    "# Build the scatter plots for latitude vs. wind speed\n",
    "wind_speed = city_data_df[\"Wind Speed\"]\n",
    "\n",
    "plt.scatter(lat, wind_speed)\n",
    "\n",
    "# Incorporate the other graph properties\n",
    "plt.xlabel(\"Latitude\")\n",
    "plt.ylabel(\"Wind Speed\")\n",
    "plt.title(\"City Latitude vs. Wind Speed (2023-04-06)\")\n",
    "\n",
    "# Save the figure\n",
    "plt.savefig(\"output_data/Fig4.png\")\n",
    "\n",
    "# Show plot\n",
    "plt.show()"
   ]
  },
  {
   "cell_type": "markdown",
   "metadata": {},
   "source": [
    "---\n",
    "\n",
    "## Requirement 2: Compute Linear Regression for Each Relationship\n"
   ]
  },
  {
   "cell_type": "code",
   "execution_count": 76,
   "metadata": {},
   "outputs": [],
   "source": [
    "# Define a function to create Linear Regression plots\n",
    "def compute_reg (x_value, y_value, y_label, eq_spot):\n",
    "    (slope, intercept, rvalue, pvalue, stderr) = linregress(x_value, y_value)\n",
    "    \n",
    "    # Get regression values\n",
    "    regress_values = x_value * slope + intercept\n",
    "\n",
    "    # Print linear equation\n",
    "    line_eq = \"y = \" + str(round(slope,2)) + \"x +\" + str(round(intercept,2))\n",
    "\n",
    "    # Create Plot\n",
    "    plt.scatter(x_value,y_value)\n",
    "    plt.plot(x_value,regress_values,\"r-\")\n",
    "\n",
    "    # Label plot and annotate the line equation\n",
    "    plt.xlabel('Latitude')\n",
    "    plt.ylabel(y_label)\n",
    "    plt.annotate(line_eq,eq_spot,fontsize=15,color=\"red\")\n",
    "\n",
    "    # Print r value\n",
    "    print(f\"The r-value is: {rvalue**2}\")\n",
    "\n",
    "    # Show plot\n",
    "    plt.show()"
   ]
  },
  {
   "cell_type": "code",
   "execution_count": 43,
   "metadata": {},
   "outputs": [
    {
     "data": {
      "text/html": [
       "<div>\n",
       "<style scoped>\n",
       "    .dataframe tbody tr th:only-of-type {\n",
       "        vertical-align: middle;\n",
       "    }\n",
       "\n",
       "    .dataframe tbody tr th {\n",
       "        vertical-align: top;\n",
       "    }\n",
       "\n",
       "    .dataframe thead th {\n",
       "        text-align: right;\n",
       "    }\n",
       "</style>\n",
       "<table border=\"1\" class=\"dataframe\">\n",
       "  <thead>\n",
       "    <tr style=\"text-align: right;\">\n",
       "      <th></th>\n",
       "      <th>City</th>\n",
       "      <th>Lat</th>\n",
       "      <th>Lng</th>\n",
       "      <th>Max Temp</th>\n",
       "      <th>Humidity</th>\n",
       "      <th>Cloudiness</th>\n",
       "      <th>Wind Speed</th>\n",
       "      <th>Country</th>\n",
       "      <th>Date</th>\n",
       "    </tr>\n",
       "    <tr>\n",
       "      <th>City_ID</th>\n",
       "      <th></th>\n",
       "      <th></th>\n",
       "      <th></th>\n",
       "      <th></th>\n",
       "      <th></th>\n",
       "      <th></th>\n",
       "      <th></th>\n",
       "      <th></th>\n",
       "      <th></th>\n",
       "    </tr>\n",
       "  </thead>\n",
       "  <tbody>\n",
       "    <tr>\n",
       "      <th>3</th>\n",
       "      <td>pevek</td>\n",
       "      <td>69.7008</td>\n",
       "      <td>170.3133</td>\n",
       "      <td>-23.05</td>\n",
       "      <td>79</td>\n",
       "      <td>4</td>\n",
       "      <td>0.70</td>\n",
       "      <td>RU</td>\n",
       "      <td>1680817238</td>\n",
       "    </tr>\n",
       "    <tr>\n",
       "      <th>10</th>\n",
       "      <td>millinocket</td>\n",
       "      <td>45.6573</td>\n",
       "      <td>-68.7098</td>\n",
       "      <td>4.06</td>\n",
       "      <td>93</td>\n",
       "      <td>100</td>\n",
       "      <td>2.06</td>\n",
       "      <td>US</td>\n",
       "      <td>1680817240</td>\n",
       "    </tr>\n",
       "    <tr>\n",
       "      <th>11</th>\n",
       "      <td>san cristobal</td>\n",
       "      <td>7.7669</td>\n",
       "      <td>-72.2250</td>\n",
       "      <td>22.10</td>\n",
       "      <td>73</td>\n",
       "      <td>98</td>\n",
       "      <td>0.43</td>\n",
       "      <td>VE</td>\n",
       "      <td>1680817240</td>\n",
       "    </tr>\n",
       "    <tr>\n",
       "      <th>12</th>\n",
       "      <td>norman wells</td>\n",
       "      <td>65.2820</td>\n",
       "      <td>-126.8329</td>\n",
       "      <td>-7.98</td>\n",
       "      <td>62</td>\n",
       "      <td>100</td>\n",
       "      <td>3.09</td>\n",
       "      <td>CA</td>\n",
       "      <td>1680817240</td>\n",
       "    </tr>\n",
       "    <tr>\n",
       "      <th>13</th>\n",
       "      <td>viransehir</td>\n",
       "      <td>37.2353</td>\n",
       "      <td>39.7631</td>\n",
       "      <td>7.52</td>\n",
       "      <td>90</td>\n",
       "      <td>1</td>\n",
       "      <td>1.28</td>\n",
       "      <td>TR</td>\n",
       "      <td>1680817240</td>\n",
       "    </tr>\n",
       "  </tbody>\n",
       "</table>\n",
       "</div>"
      ],
      "text/plain": [
       "                  City      Lat       Lng  Max Temp  Humidity  Cloudiness  \\\n",
       "City_ID                                                                     \n",
       "3                pevek  69.7008  170.3133    -23.05        79           4   \n",
       "10         millinocket  45.6573  -68.7098      4.06        93         100   \n",
       "11       san cristobal   7.7669  -72.2250     22.10        73          98   \n",
       "12        norman wells  65.2820 -126.8329     -7.98        62         100   \n",
       "13          viransehir  37.2353   39.7631      7.52        90           1   \n",
       "\n",
       "         Wind Speed Country        Date  \n",
       "City_ID                                  \n",
       "3              0.70      RU  1680817238  \n",
       "10             2.06      US  1680817240  \n",
       "11             0.43      VE  1680817240  \n",
       "12             3.09      CA  1680817240  \n",
       "13             1.28      TR  1680817240  "
      ]
     },
     "execution_count": 43,
     "metadata": {},
     "output_type": "execute_result"
    }
   ],
   "source": [
    "# Create a DataFrame with the Northern Hemisphere data (Latitude >= 0)\n",
    "northern = city_data_df[city_data_df[\"Lat\"] >= 0]\n",
    "northern_hemi_df = pd.DataFrame(northern)\n",
    "\n",
    "# Display sample data\n",
    "northern_hemi_df.head()"
   ]
  },
  {
   "cell_type": "raw",
   "metadata": {},
   "source": [
    "# Create a DataFrame with the Southern Hemisphere data (Latitude < 0)\n",
    "southern = city_data_df[city_data_df[\"Lat\"] < 0]\n",
    "southern_hemi_df = pd.DataFrame(southern)\n",
    "\n",
    "# Display sample data\n",
    "southern_hemi_df.head()"
   ]
  },
  {
   "cell_type": "markdown",
   "metadata": {},
   "source": [
    "###  Temperature vs. Latitude Linear Regression Plot"
   ]
  },
  {
   "cell_type": "code",
   "execution_count": 78,
   "metadata": {},
   "outputs": [
    {
     "name": "stdout",
     "output_type": "stream",
     "text": [
      "The r-value is: 0.7412847918645319\n"
     ]
    },
    {
     "data": {
      "image/png": "[encoded data removed]",
      "text/plain": [
       "<Figure size 432x288 with 1 Axes>"
      ]
     },
     "metadata": {
      "needs_background": "light"
     },
     "output_type": "display_data"
    }
   ],
   "source": [
    "# Linear regression on Northern Hemisphere\n",
    "n_lat = northern_hemi_df[\"Lat\"]\n",
    "n_temp = northern_hemi_df[\"Max Temp\"]\n",
    "\n",
    "compute_reg(n_lat, n_temp, \"Max Temp\", (10,-30))"
   ]
  },
  {
   "cell_type": "code",
   "execution_count": 79,
   "metadata": {},
   "outputs": [
    {
     "name": "stdout",
     "output_type": "stream",
     "text": [
      "The r-value is: 0.4236245924127907\n"
     ]
    },
    {
     "data": {
      "image/png": "[encoded data removed]",
      "text/plain": [
       "<Figure size 432x288 with 1 Axes>"
      ]
     },
     "metadata": {
      "needs_background": "light"
     },
     "output_type": "display_data"
    }
   ],
   "source": [
    "# Linear regression on Southern Hemisphere\n",
    "s_lat = southern_hemi_df[\"Lat\"]\n",
    "s_temp = southern_hemi_df[\"Max Temp\"]\n",
    "\n",
    "compute_reg(s_lat, s_temp, \"Max Temp\", (-30,10))"
   ]
  },
  {
   "cell_type": "markdown",
   "metadata": {},
   "source": [
    "**Analysis on relationship between maximum temperature and latitude:**\n",
    "\n",
    "There is a negative relationship between maximum temperature and latitude in the northern hemisphere, while there is a positive relationship between maximum temperature and latitude in the southern hemisphere. This translates to the farther north the location, the colder the temperatures and contrarily, the farther south the location, the colder it becomes. The south pole is colder than the equator, but does not get as cold as the north pole. The change in temperature in the north changes more drastically as you move coordinates, as we can see the slope is -0.64 while in the north each point you move latitude, there is a 0.24 increase in temperature. Finally, the equator shows the warmest temperatures with an intercept of 26.89 from the south and 34.6 degrees Celcius from the north. The r-value conveys that 74.13% of the change in maximum temperature is accounted by the latitutde position in the northern hemisphere and 0.42 for the southern hemisphere respectively. \n",
    "\n"
   ]
  },
  {
   "cell_type": "markdown",
   "metadata": {},
   "source": [
    "### Humidity vs. Latitude Linear Regression Plot"
   ]
  },
  {
   "cell_type": "code",
   "execution_count": 80,
   "metadata": {},
   "outputs": [
    {
     "name": "stdout",
     "output_type": "stream",
     "text": [
      "The r-value is: 0.059930093381388556\n"
     ]
    },
    {
     "data": {
      "image/png": "[encoded data removed]",
      "text/plain": [
       "<Figure size 432x288 with 1 Axes>"
      ]
     },
     "metadata": {
      "needs_background": "light"
     },
     "output_type": "display_data"
    }
   ],
   "source": [
    "# Linear regression on Northern Hemisphere\n",
    "n_humidity = northern_hemi_df[\"Humidity\"]\n",
    "\n",
    "compute_reg(n_lat, n_humidity, \"Humidity\", (40,10))"
   ]
  },
  {
   "cell_type": "code",
   "execution_count": 81,
   "metadata": {},
   "outputs": [
    {
     "name": "stdout",
     "output_type": "stream",
     "text": [
      "The r-value is: 0.1787689082971753\n"
     ]
    },
    {
     "data": {
      "image/png": "[encoded data removed]",
      "text/plain": [
       "<Figure size 432x288 with 1 Axes>"
      ]
     },
     "metadata": {
      "needs_background": "light"
     },
     "output_type": "display_data"
    }
   ],
   "source": [
    "# Southern Hemisphere\n",
    "s_humidity = southern_hemi_df[\"Humidity\"]\n",
    "\n",
    "compute_reg(s_lat, s_humidity, \"Humidity\", (-50,20))"
   ]
  },
  {
   "cell_type": "markdown",
   "metadata": {},
   "source": [
    "**Analysis on relationship between humidity and latitude:**\n",
    "\n",
    "The relationship between humidity and the latitude coordinates have a positive relationship in the northern and southern hemisphere. The slope at which the humidity increases in the south is almost twice as fast as the north. There is a slope of 0.29 with the northern hemisphere data and 0.59 with the southern hemisphere data. The r-value demonstrates that 5.99% of the variation in humidity is accounted by the latitude value in the northern hemisphere, and 17.87% in the south. The intercept or humidity at the equator is 89.46 in terms of the southern hemisphere data points, and 58.12 with the northern hemisphere points."
   ]
  },
  {
   "cell_type": "markdown",
   "metadata": {},
   "source": [
    "### Cloudiness vs. Latitude Linear Regression Plot"
   ]
  },
  {
   "cell_type": "code",
   "execution_count": 86,
   "metadata": {},
   "outputs": [
    {
     "name": "stdout",
     "output_type": "stream",
     "text": [
      "The r-value is: 0.010749287468138214\n"
     ]
    },
    {
     "data": {
      "image/png": "[encoded data removed]",
      "text/plain": [
       "<Figure size 432x288 with 1 Axes>"
      ]
     },
     "metadata": {
      "needs_background": "light"
     },
     "output_type": "display_data"
    }
   ],
   "source": [
    "# Northern Hemisphere\n",
    "n_cloud = northern_hemi_df[\"Cloudiness\"]\n",
    "\n",
    "compute_reg(n_lat, n_cloud, \"Cloudiness\", (40,10))"
   ]
  },
  {
   "cell_type": "code",
   "execution_count": 82,
   "metadata": {},
   "outputs": [
    {
     "name": "stdout",
     "output_type": "stream",
     "text": [
      "The r-value is: 0.0854836342079316\n"
     ]
    },
    {
     "data": {
      "image/png": "[encoded data removed]",
      "text/plain": [
       "<Figure size 432x288 with 1 Axes>"
      ]
     },
     "metadata": {
      "needs_background": "light"
     },
     "output_type": "display_data"
    }
   ],
   "source": [
    "# Southern Hemisphere\n",
    "s_cloud = southern_hemi_df[\"Cloudiness\"]\n",
    "\n",
    "compute_reg(s_lat, s_cloud, \"Cloudiness\", (-30,40))"
   ]
  },
  {
   "cell_type": "markdown",
   "metadata": {},
   "source": [
    "**Analysis on relationship of cloudiness and latitude:**\n",
    "\n",
    "Cloudiness has a positive relationship to latitude position in both hemispheres. The rate at which cloudiness increases in the south is nearly four times higher than the south. For a change in latitude position toward the north, there is a 0.21 change in cloudiness in the north, and 0.85 in the south.  The cloudiness and latitude relationship shows a stronger correlation in the south than in the north. The r-value shows 1.07% of cloudiness is attributed to latitude position in the northern hemisphere and 8.55% in the southern hemisphere."
   ]
  },
  {
   "cell_type": "markdown",
   "metadata": {},
   "source": [
    "### Wind Speed vs. Latitude Linear Regression Plot"
   ]
  },
  {
   "cell_type": "code",
   "execution_count": 87,
   "metadata": {},
   "outputs": [
    {
     "name": "stdout",
     "output_type": "stream",
     "text": [
      "The r-value is: 0.0120099660438469\n"
     ]
    },
    {
     "data": {
      "image/png": "[encoded data removed]",
      "text/plain": [
       "<Figure size 432x288 with 1 Axes>"
      ]
     },
     "metadata": {
      "needs_background": "light"
     },
     "output_type": "display_data"
    }
   ],
   "source": [
    "# Northern Hemisphere\n",
    "n_wind_speed = northern_hemi_df[\"Wind Speed\"]\n",
    "\n",
    "compute_reg(n_lat, n_wind_speed, \"Wind Speed\", (10,12))"
   ]
  },
  {
   "cell_type": "code",
   "execution_count": 88,
   "metadata": {},
   "outputs": [
    {
     "name": "stdout",
     "output_type": "stream",
     "text": [
      "The r-value is: 0.12028880368532337\n"
     ]
    },
    {
     "data": {
      "image/png": "[encoded data removed]",
      "text/plain": [
       "<Figure size 432x288 with 1 Axes>"
      ]
     },
     "metadata": {
      "needs_background": "light"
     },
     "output_type": "display_data"
    }
   ],
   "source": [
    "# Southern Hemisphere\n",
    "s_wind_speed = southern_hemi_df[\"Wind Speed\"]\n",
    "\n",
    "compute_reg(s_lat, s_wind_speed, \"Wind Speed\", (-50,8))"
   ]
  },
  {
   "cell_type": "markdown",
   "metadata": {},
   "source": [
    "**Analysis on relationship of wind speed and latitude:**\n",
    "\n",
    "There is nearly no relationship between wind speed and latitude in the northern hemisphere, there is only a slight positive relationship. For an increase in latitude, there is 0.01 increase in wind speed. In the southern hemisphere, there is a negative relationship between wind speed and latitude. For each increase in latitude, there is about a -0.06 decrease in wind speed. The r-value shows that on average 1.20% and 12.03% of the wind speed changes are attributed to the change in latitude for the northern and southern hemispheres respectively."
   ]
  },
  {
   "cell_type": "code",
   "execution_count": null,
   "metadata": {},
   "outputs": [],
   "source": []
  }
 ],
 "metadata": {
  "anaconda-cloud": {},
  "kernel_info": {
   "name": "python3"
  },
  "kernelspec": {
   "display_name": "PythonData",
   "language": "python",
   "name": "pythondata"
  },
  "language_info": {
   "codemirror_mode": {
    "name": "ipython",
    "version": 3
   },
   "file_extension": ".py",
   "mimetype": "text/x-python",
   "name": "python",
   "nbconvert_exporter": "python",
   "pygments_lexer": "ipython3",
   "version": "3.7.7"
  },
  "latex_envs": {
   "LaTeX_envs_menu_present": true,
   "autoclose": false,
   "autocomplete": true,
   "bibliofile": "biblio.bib",
   "cite_by": "apalike",
   "current_citInitial": 1,
   "eqLabelWithNumbers": true,
   "eqNumInitial": 1,
   "hotkeys": {
    "equation": "Ctrl-E",
    "itemize": "Ctrl-I"
   },
   "labels_anchors": false,
   "latex_user_defs": false,
   "report_style_numbering": false,
   "user_envs_cfg": false
  },
  "nteract": {
   "version": "0.12.3"
  }
 },
 "nbformat": 4,
 "nbformat_minor": 4
}
